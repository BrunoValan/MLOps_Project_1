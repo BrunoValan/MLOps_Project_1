{
 "cells": [
  {
   "cell_type": "code",
   "execution_count": 2,
   "metadata": {},
   "outputs": [],
   "source": [
    "import torch\n",
    "from transformers import pipeline"
   ]
  },
  {
   "cell_type": "code",
   "execution_count": 3,
   "metadata": {},
   "outputs": [
    {
     "name": "stderr",
     "output_type": "stream",
     "text": [
      "Downloading (…)lve/main/config.json: 100%|██████████| 1.32k/1.32k [00:00<00:00, 856kB/s]\n",
      "Downloading model.safetensors: 100%|██████████| 648M/648M [00:14<00:00, 44.4MB/s] \n",
      "Downloading (…)okenizer_config.json: 100%|██████████| 1.32k/1.32k [00:00<00:00, 5.63MB/s]\n",
      "Downloading (…)olve/main/vocab.json: 100%|██████████| 798k/798k [00:00<00:00, 4.11MB/s]\n",
      "Downloading (…)olve/main/merges.txt: 100%|██████████| 456k/456k [00:00<00:00, 3.44MB/s]\n",
      "Downloading (…)/main/tokenizer.json: 100%|██████████| 2.11M/2.11M [00:00<00:00, 29.0MB/s]\n",
      "Downloading (…)cial_tokens_map.json: 100%|██████████| 772/772 [00:00<00:00, 2.53MB/s]\n"
     ]
    }
   ],
   "source": [
    "#hugging face model \n",
    "summary_model = 'pszemraj/led-base-book-summary'\n",
    "\n",
    "#instantiate model object \n",
    "summary_generator = pipeline(\n",
    "    'summarization',\n",
    "    summary_model, \n",
    "    device=0 if torch.cuda.is_available() else -1,\n",
    ")"
   ]
  },
  {
   "cell_type": "code",
   "execution_count": 5,
   "metadata": {},
   "outputs": [],
   "source": [
    "text_body = \"AWS Cloud9 is a cloud based development environment. And it solves a lot of problems that come up when developing with the cloud.There are similar environments for the Azure cloud or for the GCP cloud. And really they are all the same thing, which is you can develop inside the environment where your code will run.So in the case of Cloud9 what happens is inside of AWS, you can provision a virtual machine. And that virtual machine has several advantages to your laptop. One is the permissions. So you can actually assign it role based permissions. So you can talk to the APIs, you can communicate with other services without having to manage those keys. So from a security perspective, this solves a lot of problems. The second thing is that the traffic itself, so the network traffic is much faster because you're essentially opening up a shell inside of the actual location where you're communicating. If your laptop is on a spotty wireless connection somewhere it's going to have a lot of problems communicating. But if you open up an instance inside the actual environment that you're working in, you're literally communicatingwith the data in the place that it needs to be. The other thing is that there's deep integration to other services. And so that's really the other key aspect of something like Cloud9 is that you can deeply integrate with the cloud Lambda environment, which is a server-less capability. You can also deeply integrate with running command line tools. So in a nutshell, if you're developing for the cloud environment,most likely, you're going to have a much better experience using the native tools, in this case, AWS Cloud9. So let's go ahead and look at that next\""
   ]
  },
  {
   "cell_type": "code",
   "execution_count": 7,
   "metadata": {},
   "outputs": [],
   "source": [
    "result = summary_generator(\n",
    "           text_body,\n",
    "           min_length=8, \n",
    "           max_length=256,\n",
    "           no_repeat_ngram_size=3, \n",
    "           encoder_no_repeat_ngram_size=3,\n",
    "           repetition_penalty=3.5,\n",
    "           num_beams=4,\n",
    "           do_sample=False,\n",
    "           early_stopping=True,\n",
    "    )\n"
   ]
  },
  {
   "cell_type": "code",
   "execution_count": 11,
   "metadata": {},
   "outputs": [
    {
     "name": "stdout",
     "output_type": "stream",
     "text": [
      "You may have heard of AWS Lambda, the Lambda framework that allows you to write code inside of a cloud environment. But what's really happening with AWS is that it actually enables you to run your code on the cloud without worrying about security or even just having to deal with managing keystrokes. It also makes it easier for other services to communicate with each other in real-time.\n"
     ]
    }
   ],
   "source": [
    "print(result[0]['summary_text'])"
   ]
  }
 ],
 "metadata": {
  "kernelspec": {
   "display_name": ".venv",
   "language": "python",
   "name": "python3"
  },
  "language_info": {
   "codemirror_mode": {
    "name": "ipython",
    "version": 3
   },
   "file_extension": ".py",
   "mimetype": "text/x-python",
   "name": "python",
   "nbconvert_exporter": "python",
   "pygments_lexer": "ipython3",
   "version": "3.10.8"
  },
  "orig_nbformat": 4
 },
 "nbformat": 4,
 "nbformat_minor": 2
}
